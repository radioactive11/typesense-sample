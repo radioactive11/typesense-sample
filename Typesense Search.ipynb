{
 "cells": [
  {
   "cell_type": "code",
   "execution_count": 1,
   "id": "e0b1da16",
   "metadata": {},
   "outputs": [
    {
     "name": "stdout",
     "output_type": "stream",
     "text": [
      "Service `typesense-server@0.24.0` already started, use `brew services restart typesense-server@0.24.0` to restart.\r\n"
     ]
    }
   ],
   "source": [
    "!brew services start typesense-server@0.24.0"
   ]
  },
  {
   "cell_type": "code",
   "execution_count": 2,
   "id": "d8ed023a",
   "metadata": {},
   "outputs": [
    {
     "name": "stdout",
     "output_type": "stream",
     "text": [
      "{\"ok\":true}"
     ]
    }
   ],
   "source": [
    "!curl http://localhost:8108/health"
   ]
  },
  {
   "cell_type": "code",
   "execution_count": 3,
   "id": "9e4a72e5",
   "metadata": {},
   "outputs": [],
   "source": [
    "import pandas as pd\n",
    "import typesense"
   ]
  },
  {
   "cell_type": "code",
   "execution_count": 4,
   "id": "cdd4ad97",
   "metadata": {},
   "outputs": [],
   "source": [
    "client = typesense.Client({\n",
    "  'nodes': [{\n",
    "    'host': 'localhost', # For Typesense Cloud use xxx.a1.typesense.net\n",
    "    'port': '8108',      # For Typesense Cloud use 443\n",
    "    'protocol': 'http'   # For Typesense Cloud use https\n",
    "  }],\n",
    "  'api_key': 'xyz',\n",
    "  'connection_timeout_seconds': 2\n",
    "})"
   ]
  },
  {
   "cell_type": "code",
   "execution_count": 5,
   "id": "fbb54e1d",
   "metadata": {},
   "outputs": [
    {
     "data": {
      "text/plain": [
       "{'created_at': 1677855152,\n",
       " 'default_sorting_field': 'ratings_count',\n",
       " 'enable_nested_fields': False,\n",
       " 'fields': [{'facet': False,\n",
       "   'index': True,\n",
       "   'infix': False,\n",
       "   'locale': '',\n",
       "   'name': 'title',\n",
       "   'optional': False,\n",
       "   'sort': False,\n",
       "   'type': 'string'},\n",
       "  {'facet': True,\n",
       "   'index': True,\n",
       "   'infix': False,\n",
       "   'locale': '',\n",
       "   'name': 'authors',\n",
       "   'optional': False,\n",
       "   'sort': False,\n",
       "   'type': 'string[]'},\n",
       "  {'facet': True,\n",
       "   'index': True,\n",
       "   'infix': False,\n",
       "   'locale': '',\n",
       "   'name': 'publication_year',\n",
       "   'optional': False,\n",
       "   'sort': True,\n",
       "   'type': 'int32'},\n",
       "  {'facet': False,\n",
       "   'index': True,\n",
       "   'infix': False,\n",
       "   'locale': '',\n",
       "   'name': 'ratings_count',\n",
       "   'optional': False,\n",
       "   'sort': True,\n",
       "   'type': 'int32'},\n",
       "  {'facet': False,\n",
       "   'index': True,\n",
       "   'infix': False,\n",
       "   'locale': '',\n",
       "   'name': 'average_rating',\n",
       "   'optional': False,\n",
       "   'sort': True,\n",
       "   'type': 'float'}],\n",
       " 'name': 'books',\n",
       " 'num_documents': 0,\n",
       " 'symbols_to_index': [],\n",
       " 'token_separators': []}"
      ]
     },
     "execution_count": 5,
     "metadata": {},
     "output_type": "execute_result"
    }
   ],
   "source": [
    "books_schema = {\n",
    "  'name': 'books',\n",
    "  'fields': [\n",
    "    {'name': 'title', 'type': 'string' },\n",
    "    {'name': 'authors', 'type': 'string[]', 'facet': True },\n",
    "\n",
    "    {'name': 'publication_year', 'type': 'int32', 'facet': True },\n",
    "    {'name': 'ratings_count', 'type': 'int32' },\n",
    "    {'name': 'average_rating', 'type': 'float' }\n",
    "  ],\n",
    "  'default_sorting_field': 'ratings_count'\n",
    "}\n",
    "\n",
    "client.collections.create(books_schema)"
   ]
  },
  {
   "cell_type": "code",
   "execution_count": 6,
   "id": "74d93e43",
   "metadata": {},
   "outputs": [],
   "source": [
    "with open('./tmp/books.jsonl') as jsonl_file:\n",
    "    client.collections['books'].documents.import_(jsonl_file.read().encode('utf-8'))"
   ]
  },
  {
   "cell_type": "code",
   "execution_count": 7,
   "id": "229a18e1",
   "metadata": {},
   "outputs": [
    {
     "data": {
      "text/plain": [
       "{'facet_counts': [],\n",
       " 'found': 0,\n",
       " 'hits': [],\n",
       " 'out_of': 0,\n",
       " 'page': 1,\n",
       " 'request_params': {'collection_name': 'books',\n",
       "  'per_page': 10,\n",
       "  'q': 'harry potter'},\n",
       " 'search_cutoff': False,\n",
       " 'search_time_ms': 4}"
      ]
     },
     "execution_count": 7,
     "metadata": {},
     "output_type": "execute_result"
    }
   ],
   "source": [
    "search_parameters = {\n",
    "  'q'         : 'harry potter',\n",
    "  'query_by'  : 'title',\n",
    "  'sort_by'   : 'ratings_count:desc'\n",
    "}\n",
    "\n",
    "client.collections['books'].documents.search(search_parameters)\n"
   ]
  },
  {
   "cell_type": "code",
   "execution_count": 10,
   "id": "421d3e1d",
   "metadata": {},
   "outputs": [
    {
     "name": "stdout",
     "output_type": "stream",
     "text": [
      "{\"title\":\"The Hunger Games\",\"authors\":[\"Suzanne Collins\"],\"publication_year\":2008,\"id\":\"1\",\"average_rating\":4.34,\"image_url\":\"https://images.gr-assets.com/books/1447303603m/2767052.jpg\",\"ratings_count\":4780653}\r\n",
      "{\"title\":\"Harry Potter and the Philosopher's Stone\",\"authors\":[\"J.K. Rowling\",\" Mary GrandPré\"],\"publication_year\":1997,\"id\":\"2\",\"average_rating\":4.44,\"image_url\":\"https://images.gr-assets.com/books/1474154022m/3.jpg\",\"ratings_count\":4602479}\r\n",
      "{\"title\":\"Twilight\",\"authors\":[\"Stephenie Meyer\"],\"publication_year\":2005,\"id\":\"3\",\"average_rating\":3.57,\"image_url\":\"https://images.gr-assets.com/books/1361039443m/41865.jpg\",\"ratings_count\":3866839}\r\n",
      "{\"title\":\"To Kill a Mockingbird\",\"authors\":[\"Harper Lee\"],\"publication_year\":1960,\"id\":\"4\",\"average_rating\":4.25,\"image_url\":\"https://images.gr-assets.com/books/1361975680m/2657.jpg\",\"ratings_count\":3198671}\r\n",
      "{\"title\":\"The Great Gatsby\",\"authors\":[\"F. Scott Fitzgerald\"],\"publication_year\":1925,\"id\":\"5\",\"average_rating\":3.89,\"image_url\":\"https://images.gr-assets.com/books/1490528560m/4671.jpg\",\"ratings_count\":2683664}\r\n",
      "{\"title\":\"The Fault in Our Stars\",\"authors\":[\"John Green\"],\"publication_year\":2012,\"id\":\"6\",\"average_rating\":4.26,\"image_url\":\"https://images.gr-assets.com/books/1360206420m/11870085.jpg\",\"ratings_count\":2346404}\r\n",
      "{\"title\":\"The Hobbit or There and Back Again\",\"authors\":[\"J.R.R. Tolkien\"],\"publication_year\":1937,\"id\":\"7\",\"average_rating\":4.25,\"image_url\":\"https://images.gr-assets.com/books/1372847500m/5907.jpg\",\"ratings_count\":2071616}\r\n",
      "{\"title\":\"The Catcher in the Rye\",\"authors\":[\"J.D. Salinger\"],\"publication_year\":1951,\"id\":\"8\",\"average_rating\":3.79,\"image_url\":\"https://images.gr-assets.com/books/1398034300m/5107.jpg\",\"ratings_count\":2044241}\r\n",
      "{\"title\":\"Angels & Demons \",\"authors\":[\"Dan Brown\"],\"publication_year\":2000,\"id\":\"9\",\"average_rating\":3.85,\"image_url\":\"https://images.gr-assets.com/books/1303390735m/960.jpg\",\"ratings_count\":2001311}\r\n",
      "{\"title\":\"Pride and Prejudice\",\"authors\":[\"Jane Austen\"],\"publication_year\":1813,\"id\":\"10\",\"average_rating\":4.24,\"image_url\":\"https://images.gr-assets.com/books/1320399351m/1885.jpg\",\"ratings_count\":2035490}\r\n"
     ]
    }
   ],
   "source": [
    "!head ./tmp/books.jsonl"
   ]
  }
 ],
 "metadata": {
  "kernelspec": {
   "display_name": "Python 3 (ipykernel)",
   "language": "python",
   "name": "python3"
  },
  "language_info": {
   "codemirror_mode": {
    "name": "ipython",
    "version": 3
   },
   "file_extension": ".py",
   "mimetype": "text/x-python",
   "name": "python",
   "nbconvert_exporter": "python",
   "pygments_lexer": "ipython3",
   "version": "3.9.6"
  }
 },
 "nbformat": 4,
 "nbformat_minor": 5
}
